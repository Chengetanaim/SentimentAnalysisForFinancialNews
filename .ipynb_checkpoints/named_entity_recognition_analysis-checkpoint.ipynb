{
 "cells": [
  {
   "cell_type": "code",
   "execution_count": 1,
   "metadata": {},
   "outputs": [],
   "source": [
    "import pandas as pd"
   ]
  },
  {
   "cell_type": "code",
   "execution_count": 2,
   "metadata": {},
   "outputs": [],
   "source": [
    "df = pd.read_csv('ner.csv')"
   ]
  },
  {
   "cell_type": "code",
   "execution_count": 6,
   "metadata": {},
   "outputs": [
    {
     "data": {
      "text/plain": [
       "GPE       16\n",
       "ORG        8\n",
       "PERSON     4\n",
       "DATE       4\n",
       "MONEY      3\n",
       "NORP       1\n",
       "FAC        1\n",
       "Name: label, dtype: int64"
      ]
     },
     "execution_count": 6,
     "metadata": {},
     "output_type": "execute_result"
    }
   ],
   "source": [
    "df.label.value_counts()"
   ]
  },
  {
   "cell_type": "code",
   "execution_count": 7,
   "metadata": {},
   "outputs": [
    {
     "data": {
      "text/html": [
       "<div>\n",
       "<style scoped>\n",
       "    .dataframe tbody tr th:only-of-type {\n",
       "        vertical-align: middle;\n",
       "    }\n",
       "\n",
       "    .dataframe tbody tr th {\n",
       "        vertical-align: top;\n",
       "    }\n",
       "\n",
       "    .dataframe thead th {\n",
       "        text-align: right;\n",
       "    }\n",
       "</style>\n",
       "<table border=\"1\" class=\"dataframe\">\n",
       "  <thead>\n",
       "    <tr style=\"text-align: right;\">\n",
       "      <th></th>\n",
       "      <th>Unnamed: 0</th>\n",
       "      <th>id</th>\n",
       "      <th>news_id</th>\n",
       "      <th>entity</th>\n",
       "      <th>label</th>\n",
       "      <th>explanation</th>\n",
       "      <th>date_added</th>\n",
       "    </tr>\n",
       "  </thead>\n",
       "  <tbody>\n",
       "    <tr>\n",
       "      <th>0</th>\n",
       "      <td>0</td>\n",
       "      <td>13</td>\n",
       "      <td>27</td>\n",
       "      <td>St James’s Place</td>\n",
       "      <td>PERSON</td>\n",
       "      <td>People, including fictional</td>\n",
       "      <td>2023-08-15 00:39:29.411719+00:00</td>\n",
       "    </tr>\n",
       "    <tr>\n",
       "      <th>1</th>\n",
       "      <td>1</td>\n",
       "      <td>14</td>\n",
       "      <td>26</td>\n",
       "      <td>August 11</td>\n",
       "      <td>DATE</td>\n",
       "      <td>Absolute or relative dates or periods</td>\n",
       "      <td>2023-08-15 00:39:30.208720+00:00</td>\n",
       "    </tr>\n",
       "    <tr>\n",
       "      <th>2</th>\n",
       "      <td>2</td>\n",
       "      <td>15</td>\n",
       "      <td>26</td>\n",
       "      <td>China</td>\n",
       "      <td>GPE</td>\n",
       "      <td>Countries, cities, states</td>\n",
       "      <td>2023-08-15 00:39:30.517926+00:00</td>\n",
       "    </tr>\n",
       "    <tr>\n",
       "      <th>3</th>\n",
       "      <td>3</td>\n",
       "      <td>16</td>\n",
       "      <td>23</td>\n",
       "      <td>US</td>\n",
       "      <td>GPE</td>\n",
       "      <td>Countries, cities, states</td>\n",
       "      <td>2023-08-15 00:39:31.737316+00:00</td>\n",
       "    </tr>\n",
       "    <tr>\n",
       "      <th>4</th>\n",
       "      <td>4</td>\n",
       "      <td>17</td>\n",
       "      <td>22</td>\n",
       "      <td>FTX</td>\n",
       "      <td>ORG</td>\n",
       "      <td>Companies, agencies, institutions, etc.</td>\n",
       "      <td>2023-08-15 00:39:32.243490+00:00</td>\n",
       "    </tr>\n",
       "  </tbody>\n",
       "</table>\n",
       "</div>"
      ],
      "text/plain": [
       "   Unnamed: 0  id  news_id            entity   label  \\\n",
       "0           0  13       27  St James’s Place  PERSON   \n",
       "1           1  14       26         August 11    DATE   \n",
       "2           2  15       26             China     GPE   \n",
       "3           3  16       23                US     GPE   \n",
       "4           4  17       22               FTX     ORG   \n",
       "\n",
       "                               explanation                        date_added  \n",
       "0              People, including fictional  2023-08-15 00:39:29.411719+00:00  \n",
       "1    Absolute or relative dates or periods  2023-08-15 00:39:30.208720+00:00  \n",
       "2                Countries, cities, states  2023-08-15 00:39:30.517926+00:00  \n",
       "3                Countries, cities, states  2023-08-15 00:39:31.737316+00:00  \n",
       "4  Companies, agencies, institutions, etc.  2023-08-15 00:39:32.243490+00:00  "
      ]
     },
     "execution_count": 7,
     "metadata": {},
     "output_type": "execute_result"
    }
   ],
   "source": [
    "df.head()"
   ]
  },
  {
   "cell_type": "code",
   "execution_count": 8,
   "metadata": {},
   "outputs": [
    {
     "data": {
      "text/plain": [
       "label   entity           \n",
       "DATE    2000                 1\n",
       "        2023                 1\n",
       "        August 11            1\n",
       "        year                 1\n",
       "FAC     Country Garden       1\n",
       "GPE     US                   5\n",
       "        Russia               3\n",
       "        China                2\n",
       "        Argentina            1\n",
       "        Cisco                1\n",
       "        Korea                1\n",
       "        South Africa         1\n",
       "        Ukraine              1\n",
       "        Zambia               1\n",
       "MONEY   1.3bn                1\n",
       "        18 per cent          1\n",
       "        billion-dollar       1\n",
       "NORP    Russian              1\n",
       "ORG     Apollo               1\n",
       "        BDO                  1\n",
       "        CVC                  1\n",
       "        Evergrande           1\n",
       "        FTX                  1\n",
       "        MTN                  1\n",
       "        Mastercard           1\n",
       "        Nvidia               1\n",
       "PERSON  Odesa                1\n",
       "        Prisoner             1\n",
       "        Sam Bankman-Fried    1\n",
       "        St James’s Place     1\n",
       "Name: entity, dtype: int64"
      ]
     },
     "execution_count": 8,
     "metadata": {},
     "output_type": "execute_result"
    }
   ],
   "source": [
    "s1 = df.groupby('label').entity.value_counts()"
   ]
  },
  {
   "cell_type": "code",
   "execution_count": 22,
   "metadata": {},
   "outputs": [
    {
     "data": {
      "text/plain": [
       "entity\n",
       "2000         1\n",
       "2023         1\n",
       "August 11    1\n",
       "year         1\n",
       "Name: entity, dtype: int64"
      ]
     },
     "execution_count": 22,
     "metadata": {},
     "output_type": "execute_result"
    }
   ],
   "source": [
    "df.groupby('label').entity.value_counts()['DATE']."
   ]
  },
  {
   "cell_type": "code",
   "execution_count": 38,
   "metadata": {},
   "outputs": [
    {
     "data": {
      "text/plain": [
       "array(['2000', '2023', 'August 11', 'year'], dtype=object)"
      ]
     },
     "execution_count": 38,
     "metadata": {},
     "output_type": "execute_result"
    }
   ],
   "source": [
    "df.groupby('label').entity.value_counts()['DATE'].index.values"
   ]
  },
  {
   "cell_type": "code",
   "execution_count": 34,
   "metadata": {},
   "outputs": [
    {
     "data": {
      "text/plain": [
       "array([1, 1, 1, 1], dtype=int64)"
      ]
     },
     "execution_count": 34,
     "metadata": {},
     "output_type": "execute_result"
    }
   ],
   "source": [
    "df.groupby('label').entity.value_counts()['DATE'].values"
   ]
  },
  {
   "cell_type": "code",
   "execution_count": null,
   "metadata": {},
   "outputs": [],
   "source": []
  },
  {
   "cell_type": "code",
   "execution_count": 9,
   "metadata": {},
   "outputs": [],
   "source": [
    "gpe = df.pivot(columns='label', values='entity')['GPE'].value_counts()"
   ]
  },
  {
   "cell_type": "code",
   "execution_count": 10,
   "metadata": {},
   "outputs": [
    {
     "data": {
      "text/plain": [
       "US              5\n",
       "Russia          3\n",
       "China           2\n",
       "Zambia          1\n",
       "Korea           1\n",
       "Argentina       1\n",
       "Cisco           1\n",
       "South Africa    1\n",
       "Ukraine         1\n",
       "Name: GPE, dtype: int64"
      ]
     },
     "execution_count": 10,
     "metadata": {},
     "output_type": "execute_result"
    }
   ],
   "source": [
    "gpe"
   ]
  },
  {
   "cell_type": "code",
   "execution_count": 11,
   "metadata": {},
   "outputs": [],
   "source": [
    "org = df.pivot(columns='label', values='entity')['ORG'].value_counts()"
   ]
  },
  {
   "cell_type": "code",
   "execution_count": 12,
   "metadata": {},
   "outputs": [
    {
     "data": {
      "text/plain": [
       "FTX           1\n",
       "BDO           1\n",
       "Apollo        1\n",
       "Nvidia        1\n",
       "Mastercard    1\n",
       "MTN           1\n",
       "Evergrande    1\n",
       "CVC           1\n",
       "Name: ORG, dtype: int64"
      ]
     },
     "execution_count": 12,
     "metadata": {},
     "output_type": "execute_result"
    }
   ],
   "source": [
    "org"
   ]
  },
  {
   "cell_type": "code",
   "execution_count": 13,
   "metadata": {},
   "outputs": [],
   "source": [
    "person = df.pivot(columns='label', values='entity')['PERSON'].value_counts()"
   ]
  },
  {
   "cell_type": "code",
   "execution_count": 14,
   "metadata": {},
   "outputs": [
    {
     "data": {
      "text/plain": [
       "St James’s Place     1\n",
       "Sam Bankman-Fried    1\n",
       "Prisoner             1\n",
       "Odesa                1\n",
       "Name: PERSON, dtype: int64"
      ]
     },
     "execution_count": 14,
     "metadata": {},
     "output_type": "execute_result"
    }
   ],
   "source": [
    "person"
   ]
  },
  {
   "cell_type": "code",
   "execution_count": 15,
   "metadata": {},
   "outputs": [
    {
     "data": {
      "text/plain": [
       "'{\"St James\\\\u2019s Place\":1,\"Sam Bankman-Fried\":1,\"Prisoner\":1,\"Odesa\":1}'"
      ]
     },
     "execution_count": 15,
     "metadata": {},
     "output_type": "execute_result"
    }
   ],
   "source": [
    "person.to_json()"
   ]
  },
  {
   "cell_type": "code",
   "execution_count": 39,
   "metadata": {},
   "outputs": [],
   "source": [
    "s1 = df.groupby('label').entity.value_counts()"
   ]
  },
  {
   "cell_type": "code",
   "execution_count": 40,
   "metadata": {},
   "outputs": [
    {
     "data": {
      "text/plain": [
       "label   entity           \n",
       "DATE    2000                 1\n",
       "        2023                 1\n",
       "        August 11            1\n",
       "        year                 1\n",
       "FAC     Country Garden       1\n",
       "GPE     US                   5\n",
       "        Russia               3\n",
       "        China                2\n",
       "        Argentina            1\n",
       "        Cisco                1\n",
       "        Korea                1\n",
       "        South Africa         1\n",
       "        Ukraine              1\n",
       "        Zambia               1\n",
       "MONEY   1.3bn                1\n",
       "        18 per cent          1\n",
       "        billion-dollar       1\n",
       "NORP    Russian              1\n",
       "ORG     Apollo               1\n",
       "        BDO                  1\n",
       "        CVC                  1\n",
       "        Evergrande           1\n",
       "        FTX                  1\n",
       "        MTN                  1\n",
       "        Mastercard           1\n",
       "        Nvidia               1\n",
       "PERSON  Odesa                1\n",
       "        Prisoner             1\n",
       "        Sam Bankman-Fried    1\n",
       "        St James’s Place     1\n",
       "Name: entity, dtype: int64"
      ]
     },
     "execution_count": 40,
     "metadata": {},
     "output_type": "execute_result"
    }
   ],
   "source": [
    "s1"
   ]
  },
  {
   "cell_type": "code",
   "execution_count": null,
   "metadata": {},
   "outputs": [],
   "source": []
  }
 ],
 "metadata": {
  "kernelspec": {
   "display_name": "Python 3 (ipykernel)",
   "language": "python",
   "name": "python3"
  },
  "language_info": {
   "codemirror_mode": {
    "name": "ipython",
    "version": 3
   },
   "file_extension": ".py",
   "mimetype": "text/x-python",
   "name": "python",
   "nbconvert_exporter": "python",
   "pygments_lexer": "ipython3",
   "version": "3.9.13"
  }
 },
 "nbformat": 4,
 "nbformat_minor": 1
}
